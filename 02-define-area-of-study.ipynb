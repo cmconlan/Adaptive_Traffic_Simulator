{
 "cells": [
  {
   "cell_type": "markdown",
   "metadata": {},
   "source": [
    "## Area of Study Definition\n",
    "\n",
    "### Code scope:\n",
    "- Define network(s) and extract in format suitable for OD methods\n",
    "- Define test sensors and time period of interest"
   ]
  },
  {
   "cell_type": "code",
   "execution_count": 1,
   "metadata": {},
   "outputs": [],
   "source": [
    "import osmnx as ox\n",
    "import pandas as pd\n",
    "from shapely.geometry import box, Polygon, MultiPolygon, Point, LineString, mapping\n",
    "from shapely.ops import transform\n",
    "from functools import partial\n",
    "import pyproj\n",
    "import geopandas as gpd\n",
    "import geojson\n",
    "import matplotlib.pyplot as plt\n",
    "\n",
    "#Below function from ChatGPT\n",
    "#Get expanded network - method 1 km buffer\n",
    "def expand_bbox(original_bbox, expansion_distance_km=5):\n",
    "    # Create a Shapely geometry object for the original bounding box\n",
    "    original_geometry = box(*original_bbox)\n",
    "\n",
    "    # Define a function to project the geometry to a new coordinate reference system\n",
    "    project = partial(\n",
    "        pyproj.transform,\n",
    "        pyproj.Proj(init='epsg:4326'),  # WGS 84 coordinate reference system\n",
    "        pyproj.Proj(proj='utm', zone=33, ellps='WGS84')  # Example: UTM Zone 33\n",
    "    )\n",
    "\n",
    "    # Project the original geometry to the new coordinate reference system\n",
    "    projected_geometry = transform(project, original_geometry)\n",
    "\n",
    "    # Calculate the expansion distance in the projected coordinate system\n",
    "    expansion_distance_meters = expansion_distance_km * 1000\n",
    "\n",
    "    # Expand the geometry by the specified distance\n",
    "    expanded_geometry = projected_geometry.buffer(expansion_distance_meters)\n",
    "\n",
    "    # Project the expanded geometry back to the original coordinate reference system\n",
    "    expanded_geometry = transform(partial(pyproj.transform, pyproj.Proj(proj='utm', zone=33, ellps='WGS84'), pyproj.Proj(init='epsg:4326')), expanded_geometry)\n",
    "\n",
    "    # Get the coordinates of the expanded bounding box\n",
    "    expanded_bbox = expanded_geometry.bounds\n",
    "\n",
    "    return expanded_bbox, expanded_geometry"
   ]
  },
  {
   "cell_type": "code",
   "execution_count": 2,
   "metadata": {},
   "outputs": [],
   "source": [
    "# Get sensors\n",
    "sensors = pd.read_csv('Data/midas_sensor_locations.csv')\n",
    "\n",
    "#Get sensor distances\n",
    "distance_df = pd.read_csv('Data/sensors_with_distances.csv', index_col=0)\n",
    "\n",
    "sensors = sensors.merge(distance_df[['site ID','sp length']],left_on = 'site_ID',right_on = 'site ID', how='left').drop('site ID', axis=1)"
   ]
  },
  {
   "cell_type": "markdown",
   "metadata": {},
   "source": [
    "# Define Route 1 (A20/M20) with closed network assumption"
   ]
  },
  {
   "cell_type": "code",
   "execution_count": 3,
   "metadata": {},
   "outputs": [
    {
     "name": "stdout",
     "output_type": "stream",
     "text": [
      "['5892/1', '5889/1', 'A20/7113A', 'M20/7095A', 'M20/7076A', 'M20/7018A', 'M20/6913A', 'M20/6905A', 'M20/6868A', 'M20/6645A', 'M20/6590A', 'M20/6582A', 'M20/6576A', 'M20/6572A', 'M20/6570A', 'M20/6568A1', 'M20/6552A1', 'M20/6545A', 'M20/6547A1', 'M20/6540A', 'M20/6534A', 'M20/6538A', 'M20/6531A', 'M20/6526A', 'M20/6518A', 'M20/6520A', 'M20/6523A', 'M20/6514A', 'M20/6517A', 'M20/6506A', 'M20/6511A', 'M20/6501A', 'M20/6498A', 'M20/6481A', 'M20/6484A', 'M20/6487A', 'M20/6491A', 'M20/6494A', 'M20/6477A', 'M20/6460A', 'M20/6465A', 'M20/6468A', 'M20/6472A', 'M20/6476A', 'M20/6454A', 'M20/6404A']\n"
     ]
    }
   ],
   "source": [
    "#Read in sensors for A20 route\n",
    "\n",
    "with open('Data/route1_a20.csv', newline='') as f:\n",
    "    a20_sensors = f.read().splitlines()\n",
    "print(a20_sensors)\n",
    "\n",
    "a20_sensor = sensors[sensors['site_ID'].isin(a20_sensors)]\n",
    "\n",
    "a20_sensor = a20_sensor.sort_values('sp length')"
   ]
  },
  {
   "cell_type": "code",
   "execution_count": 4,
   "metadata": {},
   "outputs": [
    {
     "name": "stderr",
     "output_type": "stream",
     "text": [
      "/home/chris/miniconda3/envs/ad-sim/lib/python3.10/site-packages/pyproj/crs/crs.py:141: FutureWarning: '+init=<authority>:<code>' syntax is deprecated. '<authority>:<code>' is the preferred initialization method. When making the change, be mindful of axis order changes: https://pyproj4.github.io/pyproj/stable/gotchas.html#axis-order-changes-in-proj-6\n",
      "  in_crs_string = _prepare_from_proj_string(in_crs_string)\n",
      "/home/chris/miniconda3/envs/ad-sim/lib/python3.10/site-packages/shapely/ops.py:276: FutureWarning: This function is deprecated. See: https://pyproj4.github.io/pyproj/stable/gotchas.html#upgrading-to-pyproj-2-from-pyproj-1\n",
      "  shell = type(geom.exterior)(zip(*func(*zip(*geom.exterior.coords))))\n",
      "/home/chris/miniconda3/envs/ad-sim/lib/python3.10/site-packages/pyproj/crs/crs.py:141: FutureWarning: '+init=<authority>:<code>' syntax is deprecated. '<authority>:<code>' is the preferred initialization method. When making the change, be mindful of axis order changes: https://pyproj4.github.io/pyproj/stable/gotchas.html#axis-order-changes-in-proj-6\n",
      "  in_crs_string = _prepare_from_proj_string(in_crs_string)\n",
      "/home/chris/miniconda3/envs/ad-sim/lib/python3.10/site-packages/shapely/ops.py:276: FutureWarning: This function is deprecated. See: https://pyproj4.github.io/pyproj/stable/gotchas.html#upgrading-to-pyproj-2-from-pyproj-1\n",
      "  shell = type(geom.exterior)(zip(*func(*zip(*geom.exterior.coords))))\n"
     ]
    }
   ],
   "source": [
    "# Get bounding box\n",
    "max_y = a20_sensor['Latitude'].max()\n",
    "min_y = a20_sensor['Latitude'].min()\n",
    "max_x = a20_sensor['Longitude'].max()\n",
    "min_x = a20_sensor['Longitude'].min()\n",
    "\n",
    "bounding_box = box(min_x, min_y, max_x, max_y)\n",
    "\n",
    "#Export box for vis\n",
    "gpd.GeoSeries([bounding_box]).to_file('Data/Networks/route1/initial_bounding_box.geojson', driver='GeoJSON')\n",
    "\n",
    "#Expand bbox by some small amount to expand beyond all sensors and capture contours in nearby road\n",
    "original_bbox = (min_x, min_y, max_x, max_y)  # Replace with your original bounding box coordinates\n",
    "expanded_bbox, expanded_geometry = expand_bbox(original_bbox, expansion_distance_km=0.5)\n",
    "box_expanded = box(expanded_bbox[2],expanded_bbox[1],expanded_bbox[0],expanded_bbox[3])\n",
    "\n",
    "#Export box for vis\n",
    "gpd.GeoSeries([box_expanded]).to_file('Data/Networks/route1/expanded_bounding_box.geojson', driver='GeoJSON')"
   ]
  },
  {
   "cell_type": "code",
   "execution_count": 5,
   "metadata": {},
   "outputs": [],
   "source": [
    "#Define line object between all sensors\n",
    "\n",
    "point1 = Point(a20_sensor.iloc[0]['Longitude'],a20_sensor.iloc[0]['Latitude'])\n",
    "\n",
    "line_objects = []\n",
    "buffered_line_objects = []\n",
    "for i,r, in a20_sensor[1:].iterrows():\n",
    "    point2 = Point(r['Longitude'],r['Latitude'])\n",
    "    sensor_line = LineString([point1,point2])\n",
    "    line_objects.append(sensor_line)\n",
    "    buffered_line_objects.append(sensor_line.buffer(0.009999))\n",
    "    point1 = point2\n",
    "\n",
    "# Create a FeatureCollection from the list of LineString objects\n",
    "feature_collection = geojson.FeatureCollection([geojson.Feature(geometry=line) for line in line_objects])\n",
    "# Convert the FeatureCollection to a GeoJSON string\n",
    "geojson_string = geojson.dumps(feature_collection, indent=2)\n",
    "\n",
    "# Save the GeoJSON string to a file\n",
    "with open(\"Data/Networks/route1/sensor_to_sensor_lines.geojson\", \"w\") as geojson_file:\n",
    "    geojson_file.write(geojson_string)\n",
    "    \n",
    "# Convert buffered LineString objects to GeoJSON format\n",
    "features = []\n",
    "for buffered_line in buffered_line_objects:\n",
    "    feature = geojson.Feature(geometry=mapping(buffered_line))\n",
    "    features.append(feature)\n",
    "\n",
    "# Create a FeatureCollection from the list of buffered LineString objects\n",
    "feature_collection = geojson.FeatureCollection(features)\n",
    "\n",
    "# Convert the FeatureCollection to a GeoJSON string\n",
    "geojson_string = geojson.dumps(feature_collection, indent=2)\n",
    "\n",
    "# Save the GeoJSON string to a file\n",
    "with open(\"Data/Networks/route1/sensor_to_sensor_buffered_lines.geojson\", \"w\") as geojson_file:\n",
    "    geojson_file.write(geojson_string)\n",
    "    \n",
    "#Construct a polygon from line buffers\n",
    "\n",
    "# Use unary_union to join the buffered LineString objects into a single polygon\n",
    "A20_buffered_object = MultiPolygon(buffered_line_objects).buffer(0)  # Buffering with 0 effectively removes any small artifacts\n",
    "\n",
    "# Convert the union polygon to GeoJSON format\n",
    "feature = geojson.Feature(geometry=mapping(A20_buffered_object))\n",
    "\n",
    "# Save the GeoJSON to a file\n",
    "with open(\"Data/Networks/route1/A20_buffered_area.geojson\", \"w\") as geojson_file:\n",
    "    geojson_file.write(geojson.dumps(feature, indent=2))"
   ]
  },
  {
   "cell_type": "code",
   "execution_count": 116,
   "metadata": {},
   "outputs": [],
   "source": [
    "# Extract route from OSMNX from buffer\n",
    "#Get network for area just for pimary roads etc\n",
    "cf = '[\"highway\"~\"motorway|motorway_link|primary|trunk\"]'\n",
    "G = ox.graph_from_polygon(A20_buffered_object, network_type='drive', custom_filter=cf, simplify=True)\n",
    "\n",
    "node_attributes, edge_attributes = ox.graph_to_gdfs(G, nodes=True)\n",
    "\n",
    "#Tidy Network\n",
    "#Where there is multiple road types select 1 (at random)\n",
    "road_types = []\n",
    "for i in list(edge_attributes['highway']):\n",
    "    if isinstance(i, str): \n",
    "        road_types.append(i)\n",
    "    else:\n",
    "        road_types.append(i[0])\n",
    "edge_attributes['highway'] = road_types\n",
    "\n",
    "#For edges with missing speed impute using mode\n",
    "road_type_speed_limit = {}\n",
    "for rtype in list(edge_attributes['highway'].value_counts().index):\n",
    "    road_type_speed_limit[rtype] = edge_attributes[edge_attributes['highway'] == rtype]['maxspeed'].mode().values[0]\n",
    "\n",
    "#Where speed missing or multuple, take from dict\n",
    "speed = []\n",
    "for i,r in edge_attributes.iterrows():\n",
    "    #String case\n",
    "    if isinstance(r['maxspeed'], str):\n",
    "        speed.append(int(\"\".join(filter(str.isdigit, r['maxspeed']))))\n",
    "    #List case\n",
    "    else:\n",
    "        speed.append(int(\"\".join(filter(str.isdigit, road_type_speed_limit[r['highway']]))))\n",
    "\n",
    "edge_attributes['speed'] = speed"
   ]
  },
  {
   "cell_type": "code",
   "execution_count": 7,
   "metadata": {},
   "outputs": [],
   "source": [
    "edge_attributes_gdf = gpd.GeoDataFrame(edge_attributes[['highway','speed','geometry']], crs=\"EPSG:4326\", geometry=edge_attributes['geometry'])\n",
    "edge_attributes_gdf.to_file('Data/Networks/route1/road_network_in_buffer.geojson', driver='GeoJSON')"
   ]
  },
  {
   "cell_type": "code",
   "execution_count": 117,
   "metadata": {},
   "outputs": [
    {
     "data": {
      "image/png": "[encoded data removed]",
      "text/plain": [
       "<Figure size 640x480 with 1 Axes>"
      ]
     },
     "metadata": {},
     "output_type": "display_data"
    }
   ],
   "source": [
    "# Associate sensors to network\n",
    "\n",
    "#Get sensor nearest nodes\n",
    "\n",
    "sensor_nearest_node, distances = ox.distance.nearest_nodes(G, list(a20_sensor['Longitude']), list(a20_sensor['Latitude']), return_dist=True)\n",
    "\n",
    "# Plotting the histogram\n",
    "plt.hist(distances, bins=20, edgecolor='black')  # You can adjust the number of bins as needed\n",
    "plt.xlabel('Distance (m)')\n",
    "plt.ylabel('Frequency')\n",
    "plt.title('Histogram of Distance from Snapped Node to Sensor')\n",
    "plt.show()"
   ]
  },
  {
   "cell_type": "code",
   "execution_count": 118,
   "metadata": {},
   "outputs": [],
   "source": [
    "\n",
    "snapped_nodes_dist = pd.DataFrame()\n",
    "\n",
    "snapped_nodes_dist['nodeID'] = sensor_nearest_node\n",
    "snapped_nodes_dist['dist'] = distances\n",
    "snapped_nodes_dist = snapped_nodes_dist.set_index('nodeID')\n",
    "\n",
    "snapped_nodes = node_attributes.loc[sensor_nearest_node]\n",
    "snapped_nodes['distance'] = snapped_nodes_dist['dist']\n",
    "\n",
    "sensor_to_node_gdf = gpd.GeoDataFrame(snapped_nodes[['geometry','distance']], crs=\"EPSG:4326\", geometry=snapped_nodes['geometry'])\n",
    "sensor_to_node_gdf.to_file('Data/Networks/route1/sensors_snapped_to_network.geojson', driver='GeoJSON')"
   ]
  },
  {
   "cell_type": "code",
   "execution_count": 119,
   "metadata": {},
   "outputs": [],
   "source": [
    "snapped_nodes_dist = pd.DataFrame()\n",
    "\n",
    "snapped_nodes_dist['nodeID'] = sensor_nearest_node\n",
    "snapped_nodes_dist['dist'] = distances\n",
    "snapped_nodes_dist = snapped_nodes_dist.set_index('nodeID')\n",
    "\n",
    "snapped_nodes = node_attributes.loc[sensor_nearest_node]\n",
    "snapped_nodes['distance'] = snapped_nodes_dist['dist']\n",
    "\n",
    "sensor_to_node_gdf = gpd.GeoDataFrame(snapped_nodes[['geometry','distance']], crs=\"EPSG:4326\", geometry=snapped_nodes['geometry'])\n",
    "sensor_to_node_gdf.to_file('Data/Networks/route1/sensors_snapped_to_network.geojson', driver='GeoJSON')"
   ]
  },
  {
   "cell_type": "code",
   "execution_count": null,
   "metadata": {},
   "outputs": [],
   "source": [
    "# Create artificial nodes at each sensor point"
   ]
  },
  {
   "cell_type": "code",
   "execution_count": 21,
   "metadata": {},
   "outputs": [],
   "source": []
  },
  {
   "cell_type": "code",
   "execution_count": 22,
   "metadata": {},
   "outputs": [],
   "source": []
  },
  {
   "cell_type": "code",
   "execution_count": null,
   "metadata": {},
   "outputs": [],
   "source": [
    "#Next Steps\n",
    "\n",
    "#Get nearest edge\n",
    "#Split edge as per method above"
   ]
  },
  {
   "cell_type": "code",
   "execution_count": 13,
   "metadata": {},
   "outputs": [],
   "source": [
    "sensor_nearest_edges, distances = ox.distance.nearest_edges(G, list(a20_sensor['Longitude']), list(a20_sensor['Latitude']), interpolate=None, return_dist=True)"
   ]
  },
  {
   "cell_type": "code",
   "execution_count": 14,
   "metadata": {},
   "outputs": [
    {
     "data": {
      "image/png": "[encoded data removed]",
      "text/plain": [
       "<Figure size 640x480 with 1 Axes>"
      ]
     },
     "metadata": {},
     "output_type": "display_data"
    }
   ],
   "source": [
    "# Plotting the histogram\n",
    "plt.hist(distances, bins=10, edgecolor='black')\n",
    "plt.xlabel('Values')\n",
    "plt.ylabel('Frequency')\n",
    "plt.title('Histogram of Sample Data')\n",
    "plt.show()"
   ]
  },
  {
   "cell_type": "code",
   "execution_count": 15,
   "metadata": {},
   "outputs": [],
   "source": [
    "from shapely.ops import nearest_points\n",
    "from shapely.ops import split, snap\n",
    "from sklearn.neighbors import NearestNeighbors\n",
    "from pyproj import Proj, Transformer\n",
    "import shapely.ops as sp_ops"
   ]
  },
  {
   "cell_type": "code",
   "execution_count": 120,
   "metadata": {},
   "outputs": [],
   "source": [
    "# Extract route from OSMNX from buffer\n",
    "#Get network for area just for pimary roads etc\n",
    "cf = '[\"highway\"~\"motorway|motorway_link|primary|trunk\"]'\n",
    "G = ox.graph_from_polygon(A20_buffered_object, network_type='drive', custom_filter=cf, simplify=True)\n",
    "\n",
    "node_attributes, edge_attributes = ox.graph_to_gdfs(G, nodes=True)\n",
    "\n",
    "#Tidy Network\n",
    "#Where there is multiple road types select 1 (at random)\n",
    "road_types = []\n",
    "for i in list(edge_attributes['highway']):\n",
    "    if isinstance(i, str): \n",
    "        road_types.append(i)\n",
    "    else:\n",
    "        road_types.append(i[0])\n",
    "edge_attributes['highway'] = road_types\n",
    "\n",
    "#For edges with missing speed impute using mode\n",
    "road_type_speed_limit = {}\n",
    "for rtype in list(edge_attributes['highway'].value_counts().index):\n",
    "    road_type_speed_limit[rtype] = edge_attributes[edge_attributes['highway'] == rtype]['maxspeed'].mode().values[0]\n",
    "\n",
    "#Where speed missing or multuple, take from dict\n",
    "speed = []\n",
    "for i,r in edge_attributes.iterrows():\n",
    "    #String case\n",
    "    if isinstance(r['maxspeed'], str):\n",
    "        speed.append(int(\"\".join(filter(str.isdigit, r['maxspeed']))))\n",
    "    #List case\n",
    "    else:\n",
    "        speed.append(int(\"\".join(filter(str.isdigit, road_type_speed_limit[r['highway']]))))\n",
    "\n",
    "edge_attributes['speed'] = speed\n",
    "\n",
    "sensor_points = []\n",
    "for i,r in a20_sensor.iterrows():\n",
    "    sensor_points.append(Point(r['Longitude'],r['Latitude']))\n",
    "    \n",
    "for sensor_point in sensor_points:\n",
    "    # Find the edge containing the sensor point\n",
    "    for edge in G.edges():\n",
    "        u, v = edge\n",
    "        if sensor_point in [u, v]:\n",
    "            print('edge found')\n",
    "            # Split the edge at the sensor point\n",
    "            G.remove_edge(u, v)\n",
    "            G.add_edge(u, sensor_point)\n",
    "            G.add_edge(sensor_point, v)"
   ]
  },
  {
   "cell_type": "code",
   "execution_count": 121,
   "metadata": {},
   "outputs": [
    {
     "name": "stdout",
     "output_type": "stream",
     "text": [
      "{'osmid': 1234047609, 'oneway': True, 'lanes': '2', 'ref': 'A20', 'name': 'Townwall Street', 'highway': 'trunk', 'maxspeed': '40 mph', 'access': 'yes', 'reversed': False, 'length': 624.0120000000001, 'geometry': <LINESTRING (1.318 51.125, 1.319 51.125, 1.319 51.125, 1.319 51.125, 1.32 51...>}\n",
      "Sensor order sequential\n",
      "{'osmid': [178272608, 1126726196, 1126726197, 45776966], 'oneway': True, 'lanes': '2', 'ref': 'A20', 'highway': 'trunk', 'maxspeed': ['40 mph', '70 mph'], 'access': 'yes', 'reversed': False, 'length': 4121.742000000001, 'geometry': <LINESTRING (1.247 51.104, 1.248 51.104, 1.25 51.104, 1.252 51.104, 1.254 51...>}\n",
      "Sensor order sequential\n",
      "{'osmid': [1126582504, 933310, 1126582503], 'oneway': True, 'lanes': '2', 'ref': 'A20', 'highway': 'trunk', 'maxspeed': '70 mph', 'reversed': False, 'length': 652.408, 'geometry': <LINESTRING (1.17 51.104, 1.171 51.104, 1.172 51.105, 1.172 51.105, 1.172 51...>}\n",
      "Sensor order sequential\n",
      "{'osmid': 22586918, 'oneway': True, 'lanes': '2', 'ref': 'M20', 'highway': 'motorway', 'maxspeed': '70 mph', 'reversed': False, 'length': 749.527, 'geometry': <LINESTRING (1.149 51.096, 1.15 51.096, 1.151 51.096, 1.151 51.096, 1.152 51...>}\n",
      "Sensor order sequential\n",
      "{'osmid': 53146050, 'oneway': True, 'lanes': '2', 'ref': 'M20', 'highway': 'motorway', 'maxspeed': '70 mph', 'reversed': False, 'length': 1078.726, 'geometry': <LINESTRING (1.123 51.091, 1.125 51.091, 1.127 51.091, 1.127 51.091, 1.128 5...>}\n",
      "Sensor order sequential\n",
      "{'osmid': [776064168, 776064164, 4841518], 'name': 'Stanford Interchange', 'highway': 'primary', 'maxspeed': '60 mph', 'junction': 'roundabout', 'oneway': True, 'reversed': False, 'length': 136.025, 'bridge': 'yes', 'geometry': <LINESTRING (1.051 51.096, 1.051 51.096, 1.051 51.096, 1.051 51.096, 1.051 5...>}\n",
      "Sensor order sequential\n",
      "{'osmid': 203262015, 'oneway': True, 'lanes': '3', 'ref': 'M20', 'highway': 'motorway', 'maxspeed': '70 mph', 'reversed': False, 'length': 1147.081, 'geometry': <LINESTRING (0.914 51.135, 0.915 51.135, 0.917 51.134, 0.917 51.134, 0.92 51...>}\n",
      "Sensor order sequential\n",
      "{'osmid': [203262015, 22587327], 'oneway': True, 'lanes': '3', 'ref': 'M20', 'highway': 'motorway', 'maxspeed': '70 mph', 'reversed': False, 'length': 799.996, 'geometry': <LINESTRING (0.907 51.141, 0.908 51.14, 0.908 51.14, 0.909 51.139, 0.91 51.1...>}\n",
      "Sensor order sequential\n",
      "{'osmid': [4390305, 4390307, 171636805, 1018515480, 22587388], 'oneway': True, 'lanes': '3', 'ref': 'M20', 'highway': 'motorway', 'maxspeed': '70 mph', 'reversed': False, 'length': 1153.017, 'bridge': 'yes', 'geometry': <LINESTRING (0.862 51.164, 0.863 51.163, 0.864 51.163, 0.866 51.162, 0.866 5...>}\n",
      "Sensor order sequential\n",
      "{'osmid': 166106679, 'oneway': True, 'lanes': '3', 'ref': 'M20', 'highway': 'motorway', 'maxspeed': '70 mph', 'reversed': False, 'length': 1015.748, 'geometry': <LINESTRING (0.609 51.267, 0.612 51.265, 0.614 51.264, 0.615 51.263, 0.616 5...>}\n",
      "Sensor order sequential\n",
      "{'osmid': [1238158200, 158312230], 'oneway': True, 'lanes': '3', 'ref': 'M20', 'highway': 'motorway', 'maxspeed': '70 mph', 'reversed': False, 'length': 1302.884, 'geometry': <LINESTRING (0.542 51.29, 0.544 51.289, 0.545 51.289, 0.545 51.289, 0.545 51...>}\n",
      "Sensor order sequential\n",
      "{'osmid': [182258664, 182258655, 1243902855], 'oneway': True, 'lanes': ['5', '4'], 'ref': 'M20', 'highway': 'motorway', 'maxspeed': '70 mph', 'reversed': False, 'length': 1317.1959999999997, 'geometry': <LINESTRING (0.527 51.296, 0.528 51.296, 0.529 51.295, 0.529 51.295, 0.53 51...>}\n",
      "Sensor order sequential\n",
      "{'osmid': [182258664, 182258655, 1243902855], 'oneway': True, 'lanes': ['5', '4'], 'ref': 'M20', 'highway': 'motorway', 'maxspeed': '70 mph', 'reversed': False, 'length': 729.5902059822755, 'geometry': <LINESTRING (0.527 51.296, 0.528 51.296, 0.529 51.295, 0.529 51.295, 0.53 51...>}\n",
      "Sensor order sequential\n",
      "{'osmid': [182258664, 182258655, 1243902855], 'oneway': True, 'lanes': ['5', '4'], 'ref': 'M20', 'highway': 'motorway', 'maxspeed': '70 mph', 'reversed': False, 'length': 596.8688169495415, 'geometry': <LINESTRING (0.528 51.296, 0.529 51.295, 0.529 51.295, 0.53 51.294, 0.533 51...>}\n",
      "----NO EDGE ADDED----\n",
      "<built-in method format of str object at 0x7fbd5754feb0>\n",
      "{'osmid': [427901438, 427901439], 'oneway': True, 'lanes': ['2', '1'], 'ref': 'M20', 'highway': 'motorway_link', 'reversed': False, 'length': 448.211, 'geometry': <LINESTRING (0.522 51.299, 0.522 51.299, 0.522 51.299, 0.523 51.298, 0.524 5...>}\n",
      "Sensor order sequential\n",
      "{'osmid': [427901438, 427901439], 'oneway': True, 'lanes': ['2', '1'], 'ref': 'M20', 'highway': 'motorway_link', 'reversed': False, 'length': 346.1126807690671, 'geometry': <LINESTRING (0.522 51.299, 0.522 51.299, 0.522 51.299, 0.523 51.298, 0.524 5...>}\n",
      "----NO EDGE ADDED----\n",
      "<built-in method format of str object at 0x7fbd5754feb0>\n",
      "{'osmid': [182258657, 1238061699, 1238061700, 133267622, 53108302], 'oneway': True, 'lanes': '1', 'ref': 'M20', 'highway': 'motorway_link', 'maxspeed': '70 mph', 'reversed': False, 'length': 925.3, 'bridge': 'yes', 'geometry': <LINESTRING (0.508 51.299, 0.509 51.299, 0.51 51.299, 0.512 51.299, 0.513 51...>}\n",
      "Sensor order sequential\n",
      "{'osmid': [427901438, 427901439], 'oneway': True, 'lanes': ['2', '1'], 'ref': 'M20', 'highway': 'motorway_link', 'reversed': False, 'length': 346.1126807690671, 'geometry': <LINESTRING (0.522 51.299, 0.522 51.299, 0.522 51.299, 0.523 51.298, 0.524 5...>}\n",
      "Sensor order sequential\n",
      "{'osmid': [427901438, 427901439], 'oneway': True, 'lanes': ['2', '1'], 'ref': 'M20', 'highway': 'motorway_link', 'reversed': False, 'length': 216.8450721291702, 'geometry': <LINESTRING (0.522 51.299, 0.522 51.299, 0.522 51.299, 0.523 51.298, 0.524 5...>}\n",
      "----NO EDGE ADDED----\n",
      "<built-in method format of str object at 0x7fbd5754feb0>\n",
      "{'osmid': [182258657, 1238061699, 1238061700, 133267622, 53108302], 'oneway': True, 'lanes': '1', 'ref': 'M20', 'highway': 'motorway_link', 'maxspeed': '70 mph', 'reversed': False, 'length': 930.1955950073208, 'bridge': 'yes', 'geometry': <LINESTRING (0.508 51.299, 0.509 51.299, 0.51 51.299, 0.512 51.299, 0.513 51...>}\n",
      "----NO EDGE ADDED----\n",
      "<built-in method format of str object at 0x7fbd5754feb0>\n",
      "{'osmid': [133267619, 1238061701, 1238061702, 53104490, 53108235, 53104492, 1049104813, 53108248, 53104474, 53104475], 'oneway': True, 'lanes': '3', 'ref': 'M20', 'highway': 'motorway', 'maxspeed': '70 mph', 'reversed': False, 'length': 3043.7079999999996, 'bridge': 'yes', 'geometry': <LINESTRING (0.485 51.296, 0.486 51.296, 0.487 51.296, 0.49 51.296, 0.491 51...>}\n",
      "Sensor order sequential\n",
      "{'osmid': [133267619, 1238061701, 1238061702, 53104490, 53108235, 53104492, 1049104813, 53108248, 53104474, 53104475], 'oneway': True, 'lanes': '3', 'ref': 'M20', 'highway': 'motorway', 'maxspeed': '70 mph', 'reversed': False, 'length': 2562.7977986428773, 'bridge': 'yes', 'geometry': <LINESTRING (0.485 51.296, 0.486 51.296, 0.487 51.296, 0.49 51.296, 0.491 51...>}\n",
      "Sensor order sequential\n",
      "{'osmid': [133267619, 1238061701, 1238061702, 53104490, 53108235, 53104492, 1049104813, 53108248, 53104474, 53104475], 'oneway': True, 'lanes': '3', 'ref': 'M20', 'highway': 'motorway', 'maxspeed': '70 mph', 'reversed': False, 'length': 2284.5851500036033, 'bridge': 'yes', 'geometry': <LINESTRING (0.485 51.296, 0.486 51.296, 0.487 51.296, 0.49 51.296, 0.491 51...>}\n",
      "Sensor order sequential\n",
      "{'osmid': [133267619, 1238061701, 1238061702, 53104490, 53108235, 53104492, 1049104813, 53108248, 53104474, 53104475], 'oneway': True, 'lanes': '3', 'ref': 'M20', 'highway': 'motorway', 'maxspeed': '70 mph', 'reversed': False, 'length': 380.5984554088816, 'bridge': 'yes', 'geometry': <LINESTRING (0.485 51.296, 0.486 51.296, 0.487 51.296, 0.49 51.296)>}\n",
      "Sensor order sequential\n",
      "{'osmid': [133267619, 1238061701, 1238061702, 53104490, 53108235, 53104492, 1049104813, 53108248, 53104474, 53104475], 'oneway': True, 'lanes': '3', 'ref': 'M20', 'highway': 'motorway', 'maxspeed': '70 mph', 'reversed': False, 'length': 317.15518452619284, 'bridge': 'yes', 'geometry': <LINESTRING (0.486 51.296, 0.487 51.296, 0.49 51.296)>}\n",
      "Sensor order sequential\n",
      "{'osmid': 166106671, 'oneway': True, 'lanes': '4', 'ref': 'M20', 'highway': 'motorway', 'maxspeed': '70 mph', 'reversed': False, 'length': 518.677, 'geometry': <LINESTRING (0.478 51.299, 0.48 51.298, 0.481 51.298, 0.481 51.297, 0.482 51...>}\n",
      "Sensor order sequential\n",
      "{'osmid': [1243902856, 1243902857, 4049065, 238843540, 53103418, 53103419], 'oneway': True, 'lanes': ['5', '4'], 'ref': 'M20', 'highway': 'motorway', 'maxspeed': '70 mph', 'reversed': False, 'length': 3391.797999999999, 'bridge': 'yes', 'geometry': <LINESTRING (0.432 51.307, 0.433 51.307, 0.434 51.306, 0.435 51.306, 0.436 5...>}\n",
      "Sensor order sequential\n",
      "{'osmid': [1243902856, 1243902857, 4049065, 238843540, 53103418, 53103419], 'oneway': True, 'lanes': ['5', '4'], 'ref': 'M20', 'highway': 'motorway', 'maxspeed': '70 mph', 'reversed': False, 'length': 492.06752904525774, 'bridge': 'yes', 'geometry': <LINESTRING (0.472 51.3, 0.473 51.3, 0.474 51.3, 0.474 51.3, 0.475 51.3, 0.4...>}\n",
      "Sensor order sequential\n",
      "{'osmid': [1243902856, 1243902857, 4049065, 238843540, 53103418, 53103419], 'oneway': True, 'lanes': ['5', '4'], 'ref': 'M20', 'highway': 'motorway', 'maxspeed': '70 mph', 'reversed': False, 'length': 2951.158334528643, 'bridge': 'yes', 'geometry': <LINESTRING (0.432 51.307, 0.433 51.307, 0.434 51.306, 0.435 51.306, 0.436 5...>}\n",
      "Sensor order sequential\n",
      "{'osmid': [1243902856, 1243902857, 4049065, 238843540, 53103418, 53103419], 'oneway': True, 'lanes': ['5', '4'], 'ref': 'M20', 'highway': 'motorway', 'maxspeed': '70 mph', 'reversed': False, 'length': 2621.84650651177, 'bridge': 'yes', 'geometry': <LINESTRING (0.432 51.307, 0.433 51.307, 0.434 51.306, 0.435 51.306, 0.436 5...>}\n",
      "Sensor order sequential\n",
      "{'osmid': [1243902856, 1243902857, 4049065, 238843540, 53103418, 53103419], 'oneway': True, 'lanes': ['5', '4'], 'ref': 'M20', 'highway': 'motorway', 'maxspeed': '70 mph', 'reversed': False, 'length': 2111.6945163338087, 'bridge': 'yes', 'geometry': <LINESTRING (0.432 51.307, 0.433 51.307, 0.434 51.306, 0.435 51.306, 0.436 5...>}\n",
      "Sensor order sequential\n",
      "{'osmid': [1243902856, 1243902857, 4049065, 238843540, 53103418, 53103419], 'oneway': True, 'lanes': ['5', '4'], 'ref': 'M20', 'highway': 'motorway', 'maxspeed': '70 mph', 'reversed': False, 'length': 1735.4771361379067, 'bridge': 'yes', 'geometry': <LINESTRING (0.432 51.307, 0.433 51.307, 0.434 51.306, 0.435 51.306, 0.436 5...>}\n",
      "Sensor order sequential\n",
      "{'osmid': [1243902856, 1243902857, 4049065, 238843540, 53103418, 53103419], 'oneway': True, 'lanes': ['5', '4'], 'ref': 'M20', 'highway': 'motorway', 'maxspeed': '70 mph', 'reversed': False, 'length': 1540.228320618683, 'bridge': 'yes', 'geometry': <LINESTRING (0.432 51.307, 0.433 51.307, 0.434 51.306, 0.435 51.306, 0.436 5...>}\n",
      "Sensor order sequential\n",
      "{'osmid': [1243902856, 1243902857, 4049065, 238843540, 53103418, 53103419], 'oneway': True, 'lanes': ['5', '4'], 'ref': 'M20', 'highway': 'motorway', 'maxspeed': '70 mph', 'reversed': False, 'length': 1309.4753870357026, 'bridge': 'yes', 'geometry': <LINESTRING (0.432 51.307, 0.433 51.307, 0.434 51.306, 0.435 51.306, 0.436 5...>}\n",
      "----NO EDGE ADDED----\n",
      "<built-in method format of str object at 0x7fbd5754feb0>\n",
      "{'osmid': [1243902856, 1243902857, 4049065, 238843540, 53103418, 53103419], 'oneway': True, 'lanes': ['5', '4'], 'ref': 'M20', 'highway': 'motorway', 'maxspeed': '70 mph', 'reversed': False, 'length': 1309.4753870357026, 'bridge': 'yes', 'geometry': <LINESTRING (0.432 51.307, 0.433 51.307, 0.434 51.306, 0.435 51.306, 0.436 5...>}\n",
      "Sensor order sequential\n",
      "{'osmid': [1243902856, 1243902857, 4049065, 238843540, 53103418, 53103419], 'oneway': True, 'lanes': ['5', '4'], 'ref': 'M20', 'highway': 'motorway', 'maxspeed': '70 mph', 'reversed': False, 'length': 880.5743531079775, 'bridge': 'yes', 'geometry': <LINESTRING (0.432 51.307, 0.433 51.307, 0.434 51.306, 0.435 51.306, 0.436 5...>}\n",
      "Sensor order sequential\n",
      "{'osmid': [1243902856, 1243902857, 4049065, 238843540, 53103418, 53103419], 'oneway': True, 'lanes': ['5', '4'], 'ref': 'M20', 'highway': 'motorway', 'maxspeed': '70 mph', 'reversed': False, 'length': 654.011320135793, 'bridge': 'yes', 'geometry': <LINESTRING (0.432 51.307, 0.433 51.307, 0.434 51.306, 0.435 51.306, 0.436 5...>}\n",
      "Sensor order sequential\n",
      "{'osmid': [1243857656, 1243857657, 1238135133], 'oneway': True, 'lanes': '3', 'ref': 'M20', 'highway': 'motorway', 'maxspeed': '70 mph', 'reversed': False, 'length': 1127.3069999999998, 'geometry': <LINESTRING (0.417 51.311, 0.419 51.311, 0.421 51.31, 0.422 51.31, 0.425 51....>}\n",
      "Sensor order sequential\n",
      "{'osmid': [1243857656, 1243857657, 1238135133], 'oneway': True, 'lanes': '3', 'ref': 'M20', 'highway': 'motorway', 'maxspeed': '70 mph', 'reversed': False, 'length': 834.5358254440632, 'geometry': <LINESTRING (0.417 51.311, 0.419 51.311, 0.421 51.31, 0.422 51.31, 0.425 51....>}\n",
      "Sensor order sequential\n",
      "{'osmid': [182262465, 1243857655, 4049063], 'oneway': True, 'lanes': '4', 'ref': 'M20', 'highway': 'motorway', 'maxspeed': '70 mph', 'reversed': False, 'length': 3341.9869999999996, 'geometry': <LINESTRING (0.37 51.309, 0.371 51.309, 0.373 51.309, 0.373 51.309, 0.375 51...>}\n",
      "Sensor order sequential\n",
      "{'osmid': [182262465, 1243857655, 4049063], 'oneway': True, 'lanes': '4', 'ref': 'M20', 'highway': 'motorway', 'maxspeed': '70 mph', 'reversed': False, 'length': 1322.8515444265058, 'geometry': <LINESTRING (0.399 51.31, 0.4 51.311, 0.401 51.311, 0.402 51.311, 0.403 51.3...>}\n",
      "Sensor order sequential\n",
      "{'osmid': [182262465, 1243857655, 4049063], 'oneway': True, 'lanes': '4', 'ref': 'M20', 'highway': 'motorway', 'maxspeed': '70 mph', 'reversed': False, 'length': 1026.3225934765721, 'geometry': <LINESTRING (0.403 51.311, 0.404 51.311, 0.405 51.311, 0.407 51.312, 0.408 5...>}\n",
      "Sensor order sequential\n",
      "{'osmid': [182261768, 15798475, 245291005], 'oneway': True, 'ref': 'M20', 'highway': 'motorway_link', 'maxspeed': '70 mph', 'reversed': False, 'length': 569.064, 'lanes': '4', 'geometry': <LINESTRING (0.417 51.311, 0.418 51.311, 0.42 51.311, 0.422 51.31, 0.423 51....>}\n",
      "----NO EDGE ADDED----\n",
      "<built-in method format of str object at 0x7fbd5754feb0>\n",
      "{'osmid': [182262465, 1243857655, 4049063], 'oneway': True, 'lanes': '4', 'ref': 'M20', 'highway': 'motorway', 'maxspeed': '70 mph', 'reversed': False, 'length': 714.59593315757, 'geometry': <LINESTRING (0.403 51.311, 0.404 51.311, 0.405 51.311, 0.407 51.312, 0.408 5...>}\n",
      "Sensor order sequential\n",
      "{'osmid': [182262465, 1243857655, 4049063], 'oneway': True, 'lanes': '4', 'ref': 'M20', 'highway': 'motorway', 'maxspeed': '70 mph', 'reversed': False, 'length': 2070.7158054104248, 'geometry': <LINESTRING (0.37 51.309, 0.371 51.309, 0.373 51.309, 0.373 51.309, 0.375 51...>}\n",
      "Sensor order sequential\n",
      "{'osmid': [182262465, 1243857655, 4049063], 'oneway': True, 'lanes': '4', 'ref': 'M20', 'highway': 'motorway', 'maxspeed': '70 mph', 'reversed': False, 'length': 1624.0890747855033, 'geometry': <LINESTRING (0.37 51.309, 0.371 51.309, 0.373 51.309, 0.373 51.309, 0.375 51...>}\n",
      "----NO EDGE ADDED----\n",
      "<built-in method format of str object at 0x7fbd5754feb0>\n",
      "{'osmid': [182262465, 1243857655, 4049063], 'oneway': True, 'lanes': '4', 'ref': 'M20', 'highway': 'motorway', 'maxspeed': '70 mph', 'reversed': False, 'length': 1624.0890747855033, 'geometry': <LINESTRING (0.37 51.309, 0.371 51.309, 0.373 51.309, 0.373 51.309, 0.375 51...>}\n",
      "Sensor order sequential\n",
      "{'osmid': [182262465, 1243857655, 4049063], 'oneway': True, 'lanes': '4', 'ref': 'M20', 'highway': 'motorway', 'maxspeed': '70 mph', 'reversed': False, 'length': 1201.4199627584399, 'geometry': <LINESTRING (0.37 51.309, 0.371 51.309, 0.373 51.309, 0.373 51.309, 0.375 51...>}\n",
      "Sensor order sequential\n",
      "{'osmid': [182262465, 1243857655, 4049063], 'oneway': True, 'lanes': '4', 'ref': 'M20', 'highway': 'motorway', 'maxspeed': '70 mph', 'reversed': False, 'length': 749.220125250748, 'geometry': <LINESTRING (0.37 51.309, 0.371 51.309, 0.373 51.309, 0.373 51.309, 0.375 51...>}\n",
      "Sensor order sequential\n",
      "{'osmid': [182262467, 182262469, 53102191, 53102192, 1238061718, 182262463], 'oneway': True, 'lanes': '3', 'ref': 'M20', 'highway': 'motorway', 'maxspeed': '70 mph', 'reversed': False, 'length': 5958.508000000001, 'bridge': 'yes', 'geometry': <LINESTRING (0.287 51.318, 0.289 51.318, 0.294 51.316, 0.298 51.316, 0.301 5...>}\n",
      "Sensor order sequential\n",
      "{'osmid': [182262467, 182262469, 53102191, 53102192, 1238061718, 182262463], 'oneway': True, 'lanes': '3', 'ref': 'M20', 'highway': 'motorway', 'maxspeed': '70 mph', 'reversed': False, 'length': 5975.763829830858, 'bridge': 'yes', 'geometry': <LINESTRING (0.287 51.318, 0.289 51.318, 0.294 51.316, 0.298 51.316, 0.301 5...>}\n",
      "Sensor order sequential\n",
      "{'osmid': [182262467, 182262469, 53102191, 53102192, 1238061718, 182262463], 'oneway': True, 'lanes': '3', 'ref': 'M20', 'highway': 'motorway', 'maxspeed': '70 mph', 'reversed': False, 'length': 5312.768910144918, 'bridge': 'yes', 'geometry': <LINESTRING (0.287 51.318, 0.289 51.318, 0.294 51.316, 0.298 51.316, 0.301 5...>}\n",
      "Sensor order sequential\n"
     ]
    }
   ],
   "source": [
    "node_id = 0\n",
    "for sens_ind in range(len(sensor_points)):\n",
    "    \n",
    "    #Compute nearest edges - needs to be recomputed each time, as structure of G fundamentally changes with each iteration\n",
    "    sensor_nearest_edges, distances = ox.distance.nearest_edges(G, list(a20_sensor['Longitude']), list(a20_sensor['Latitude']), interpolate=None, return_dist=True)\n",
    "    \n",
    "    #Get point\n",
    "    sensor_point = sensor_points[sens_ind]\n",
    "\n",
    "    #Get edge\n",
    "    edge = G.edges[sensor_nearest_edges[sens_ind][0],sensor_nearest_edges[sens_ind][1],0]\n",
    "    print(edge)\n",
    "\n",
    "    #Edge Geometry\n",
    "    edge_geom = edge['geometry']\n",
    "    line_coords = list(edge_geom.coords)\n",
    "\n",
    "    # Flatten the coordinates for use with NearestNeighbors\n",
    "    X = [(x, y) for x, y in line_coords]\n",
    "    # Fit a NearestNeighbors model\n",
    "    nn_model = NearestNeighbors(n_neighbors=1, algorithm='ball_tree').fit(X)\n",
    "    # Query the model with the coordinates of the Point\n",
    "    query_result = nn_model.kneighbors([[sensor_point.x, sensor_point.y]])\n",
    "    # Get the index of the nearest point on the LineString\n",
    "    nearest_point_index = query_result[1][0][0]\n",
    "    # Extract coordinates of the nearest point on the LineString\n",
    "    nearest_coordinates = line_coords[nearest_point_index]\n",
    "\n",
    "    # Split edge geometry at nearest point\n",
    "    split_line = split(edge_geom, Point(nearest_coordinates))\n",
    "\n",
    "    #Get new geometries\n",
    "    segments = [feature for feature in split_line.geoms]\n",
    "    gdf_segments = gpd.GeoDataFrame(list(range(len(segments))), geometry=segments)\n",
    "    gdf_segments.columns = ['index', 'geometry']\n",
    "\n",
    "    #Capture edge attributes\n",
    "    edge_attrs = G[sensor_nearest_edges[sens_ind][0]][sensor_nearest_edges[sens_ind][1]][0]\n",
    "\n",
    "    if len(gdf_segments) > 1:\n",
    "    \n",
    "        #Get list of points in each geometry\n",
    "        geom1_coords_list = [(x, y) for x, y in gdf_segments.iloc[0]['geometry'].coords]\n",
    "        geom2_coords_list = [(x, y) for x, y in gdf_segments.iloc[1]['geometry'].coords]\n",
    "        \n",
    "        #Remove edge\n",
    "        G.remove_edge(sensor_nearest_edges[sens_ind][0],sensor_nearest_edges[sens_ind][1],0)\n",
    "        G.add_node(node_id, y=sensor_point.y, x=sensor_point.x,)\n",
    "        \n",
    "        if geom1_coords_list[-1] == geom2_coords_list[0]:\n",
    "\n",
    "            print('Sensor order sequential')\n",
    "\n",
    "            #Add new edge with original features\n",
    "            G.add_edge(sensor_nearest_edges[sens_ind][0], node_id, 0, **{**edge_attrs})\n",
    "\n",
    "            #Update geometry\n",
    "            G[sensor_nearest_edges[sens_ind][0]][node_id][0]['geometry'] = gdf_segments.iloc[0]['geometry']\n",
    "\n",
    "            #Calculate new length\n",
    "            # Create a GeoDataFrame with the LineString\n",
    "            gdf = gpd.GeoDataFrame(geometry=[gdf_segments.iloc[0]['geometry']]).set_crs('EPSG:4326')\n",
    "            # Convert the CRS of the GeoDataFrame (and the LineString within it)\n",
    "            gdf = gdf.to_crs('EPSG:32633')\n",
    "\n",
    "            G[sensor_nearest_edges[sens_ind][0]][node_id][0]['length'] = gdf.geometry.iloc[0].length\n",
    "\n",
    "            #Add new edge with original features\n",
    "            G.add_edge(node_id,sensor_nearest_edges[sens_ind][0], 0, **{**edge_attrs})\n",
    "\n",
    "            #Update geometry\n",
    "            G[node_id][sensor_nearest_edges[sens_ind][0]][0]['geometry'] = gdf_segments.iloc[1]['geometry']\n",
    "\n",
    "            #Calculate new length\n",
    "            # Create a GeoDataFrame with the LineString\n",
    "            gdf = gpd.GeoDataFrame(geometry=[gdf_segments.iloc[1]['geometry']]).set_crs('EPSG:4326')\n",
    "            # Convert the CRS of the GeoDataFrame (and the LineString within it)\n",
    "            gdf = gdf.to_crs('EPSG:32633')\n",
    "\n",
    "            G[node_id][sensor_nearest_edges[sens_ind][0]][0]['length'] = gdf.geometry.iloc[0].length\n",
    "            \n",
    "            node_id += 1\n",
    "        else:\n",
    "            print('!!!!!ORDER NOT SEQUENTIAL!!!!!')\n",
    "            print('Example : {}'.format)\n",
    "            \n",
    "    else:\n",
    "        print('----NO EDGE ADDED----')\n",
    "        print('Example : {}'.format)"
   ]
  },
  {
   "cell_type": "code",
   "execution_count": 122,
   "metadata": {},
   "outputs": [],
   "source": [
    "node_attributes, edge_attributes = ox.graph_to_gdfs(G, nodes=True)"
   ]
  },
  {
   "cell_type": "code",
   "execution_count": 123,
   "metadata": {},
   "outputs": [],
   "source": [
    "# Associate sensors to nearest nodes and visualise\n",
    "\n",
    "# Associate sensors to network\n",
    "\n",
    "#Get sensor nearest nodes\n",
    "\n",
    "sensor_nearest_node, distances = ox.distance.nearest_nodes(G, list(a20_sensor['Longitude']), list(a20_sensor['Latitude']), return_dist=True)"
   ]
  },
  {
   "cell_type": "code",
   "execution_count": 124,
   "metadata": {},
   "outputs": [
    {
     "data": {
      "image/png": "[encoded data removed]",
      "text/plain": [
       "<Figure size 640x480 with 1 Axes>"
      ]
     },
     "metadata": {},
     "output_type": "display_data"
    }
   ],
   "source": [
    "\n",
    "# Plotting the histogram\n",
    "plt.hist(distances, bins=20, edgecolor='black')  # You can adjust the number of bins as needed\n",
    "plt.xlabel('Distance (m)')\n",
    "plt.ylabel('Frequency')\n",
    "plt.title('Histogram of Distance from Snapped Node to Sensor')\n",
    "plt.show()"
   ]
  },
  {
   "cell_type": "code",
   "execution_count": null,
   "metadata": {},
   "outputs": [],
   "source": [
    "# Plotting the histogram\n",
    "plt.hist(distances, bins=20, edgecolor='black')  # You can adjust the number of bins as needed\n",
    "plt.xlabel('Distance (m)')\n",
    "plt.ylabel('Frequency')\n",
    "plt.title('Histogram of Distance from Snapped Node to Sensor')\n",
    "plt.show()"
   ]
  },
  {
   "cell_type": "code",
   "execution_count": 114,
   "metadata": {},
   "outputs": [],
   "source": [
    "\n",
    "snapped_nodes_dist = pd.DataFrame()\n",
    "snapped_nodes_dist['nodeID'] = sensor_nearest_node\n",
    "snapped_nodes_dist['dist'] = distances\n",
    "snapped_nodes_dist = snapped_nodes_dist.set_index('nodeID')\n",
    "\n",
    "snapped_nodes = node_attributes.loc[sensor_nearest_node]\n",
    "snapped_nodes['distance'] = snapped_nodes_dist['dist']\n",
    "\n",
    "sensor_to_node_gdf = gpd.GeoDataFrame(snapped_nodes[['geometry','distance']], crs=\"EPSG:4326\", geometry=snapped_nodes['geometry'])\n",
    "sensor_to_node_gdf.to_file('Data/Networks/route1/sensors_snapped_to_network_updated.geojson', driver='GeoJSON')"
   ]
  },
  {
   "cell_type": "code",
   "execution_count": null,
   "metadata": {},
   "outputs": [],
   "source": [
    "# Export Network and Network Snappings\n",
    "\n"
   ]
  },
  {
   "cell_type": "markdown",
   "metadata": {},
   "source": [
    "# Define Route 2 with closed network assumption"
   ]
  },
  {
   "cell_type": "markdown",
   "metadata": {},
   "source": [
    "# Define Route 3 open network connecting major routes to Dover"
   ]
  }
 ],
 "metadata": {
  "kernelspec": {
   "display_name": "ad-sim",
   "language": "python",
   "name": "python3"
  },
  "language_info": {
   "codemirror_mode": {
    "name": "ipython",
    "version": 3
   },
   "file_extension": ".py",
   "mimetype": "text/x-python",
   "name": "python",
   "nbconvert_exporter": "python",
   "pygments_lexer": "ipython3",
   "version": "3.10.13"
  }
 },
 "nbformat": 4,
 "nbformat_minor": 2
}
